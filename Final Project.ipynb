{
 "cells": [
  {
   "cell_type": "code",
   "execution_count": 1,
   "metadata": {},
   "outputs": [],
   "source": [
    "import numpy as np\n",
    "import pandas as pd\n",
    "%matplotlib inline\n",
    "import matplotlib.pyplot as plt\n",
    "import seaborn as sns\n",
    "from sklearn.naive_bayes import GaussianNB"
   ]
  },
  {
   "cell_type": "code",
   "execution_count": 2,
   "metadata": {},
   "outputs": [
    {
     "data": {
      "text/html": [
       "<div>\n",
       "<style scoped>\n",
       "    .dataframe tbody tr th:only-of-type {\n",
       "        vertical-align: middle;\n",
       "    }\n",
       "\n",
       "    .dataframe tbody tr th {\n",
       "        vertical-align: top;\n",
       "    }\n",
       "\n",
       "    .dataframe thead th {\n",
       "        text-align: right;\n",
       "    }\n",
       "</style>\n",
       "<table border=\"1\" class=\"dataframe\">\n",
       "  <thead>\n",
       "    <tr style=\"text-align: right;\">\n",
       "      <th></th>\n",
       "      <th>Date1</th>\n",
       "      <th>Time1</th>\n",
       "      <th>Year</th>\n",
       "      <th>Month</th>\n",
       "      <th>Day</th>\n",
       "      <th>Hour</th>\n",
       "      <th>Minute</th>\n",
       "      <th>SYMBOL</th>\n",
       "      <th>BID</th>\n",
       "      <th>OFR</th>\n",
       "      <th>N_OFFER</th>\n",
       "      <th>N_BID</th>\n",
       "    </tr>\n",
       "  </thead>\n",
       "  <tbody>\n",
       "    <tr>\n",
       "      <th>0</th>\n",
       "      <td>20130102</td>\n",
       "      <td>09:30</td>\n",
       "      <td>2013</td>\n",
       "      <td>1</td>\n",
       "      <td>2</td>\n",
       "      <td>9</td>\n",
       "      <td>30</td>\n",
       "      <td>AAPL</td>\n",
       "      <td>553.45</td>\n",
       "      <td>553.63</td>\n",
       "      <td>6953.0</td>\n",
       "      <td>10359.0</td>\n",
       "    </tr>\n",
       "    <tr>\n",
       "      <th>1</th>\n",
       "      <td>20130102</td>\n",
       "      <td>09:31</td>\n",
       "      <td>2013</td>\n",
       "      <td>1</td>\n",
       "      <td>2</td>\n",
       "      <td>9</td>\n",
       "      <td>31</td>\n",
       "      <td>AAPL</td>\n",
       "      <td>530.64</td>\n",
       "      <td>552.42</td>\n",
       "      <td>11562.0</td>\n",
       "      <td>11163.0</td>\n",
       "    </tr>\n",
       "    <tr>\n",
       "      <th>2</th>\n",
       "      <td>20130102</td>\n",
       "      <td>09:32</td>\n",
       "      <td>2013</td>\n",
       "      <td>1</td>\n",
       "      <td>2</td>\n",
       "      <td>9</td>\n",
       "      <td>32</td>\n",
       "      <td>AAPL</td>\n",
       "      <td>550.84</td>\n",
       "      <td>551.35</td>\n",
       "      <td>7629.0</td>\n",
       "      <td>6001.0</td>\n",
       "    </tr>\n",
       "    <tr>\n",
       "      <th>3</th>\n",
       "      <td>20130102</td>\n",
       "      <td>09:33</td>\n",
       "      <td>2013</td>\n",
       "      <td>1</td>\n",
       "      <td>2</td>\n",
       "      <td>9</td>\n",
       "      <td>33</td>\n",
       "      <td>AAPL</td>\n",
       "      <td>551.07</td>\n",
       "      <td>551.60</td>\n",
       "      <td>5306.0</td>\n",
       "      <td>5562.0</td>\n",
       "    </tr>\n",
       "    <tr>\n",
       "      <th>4</th>\n",
       "      <td>20130102</td>\n",
       "      <td>09:34</td>\n",
       "      <td>2013</td>\n",
       "      <td>1</td>\n",
       "      <td>2</td>\n",
       "      <td>9</td>\n",
       "      <td>34</td>\n",
       "      <td>AAPL</td>\n",
       "      <td>552.02</td>\n",
       "      <td>552.92</td>\n",
       "      <td>7767.0</td>\n",
       "      <td>9202.0</td>\n",
       "    </tr>\n",
       "  </tbody>\n",
       "</table>\n",
       "</div>"
      ],
      "text/plain": [
       "      Date1  Time1  Year  Month  Day  Hour  Minute SYMBOL     BID     OFR  \\\n",
       "0  20130102  09:30  2013      1    2     9      30   AAPL  553.45  553.63   \n",
       "1  20130102  09:31  2013      1    2     9      31   AAPL  530.64  552.42   \n",
       "2  20130102  09:32  2013      1    2     9      32   AAPL  550.84  551.35   \n",
       "3  20130102  09:33  2013      1    2     9      33   AAPL  551.07  551.60   \n",
       "4  20130102  09:34  2013      1    2     9      34   AAPL  552.02  552.92   \n",
       "\n",
       "   N_OFFER    N_BID  \n",
       "0   6953.0  10359.0  \n",
       "1  11562.0  11163.0  \n",
       "2   7629.0   6001.0  \n",
       "3   5306.0   5562.0  \n",
       "4   7767.0   9202.0  "
      ]
     },
     "execution_count": 2,
     "metadata": {},
     "output_type": "execute_result"
    }
   ],
   "source": [
    "#1.\n",
    "root = 'C:\\\\Users\\\\admin\\\\OneDrive - nyu.edu\\\\Bootcamp_3'\n",
    "df = pd.read_csv(root + '\\\\crosssection_AAPL.csv')\n",
    "df.head()"
   ]
  },
  {
   "cell_type": "code",
   "execution_count": 3,
   "metadata": {},
   "outputs": [
    {
     "data": {
      "text/html": [
       "<div>\n",
       "<style scoped>\n",
       "    .dataframe tbody tr th:only-of-type {\n",
       "        vertical-align: middle;\n",
       "    }\n",
       "\n",
       "    .dataframe tbody tr th {\n",
       "        vertical-align: top;\n",
       "    }\n",
       "\n",
       "    .dataframe thead th {\n",
       "        text-align: right;\n",
       "    }\n",
       "</style>\n",
       "<table border=\"1\" class=\"dataframe\">\n",
       "  <thead>\n",
       "    <tr style=\"text-align: right;\">\n",
       "      <th></th>\n",
       "      <th>Date1</th>\n",
       "      <th>Time1</th>\n",
       "      <th>Year</th>\n",
       "      <th>Month</th>\n",
       "      <th>Day</th>\n",
       "      <th>Hour</th>\n",
       "      <th>Minute</th>\n",
       "      <th>SYMBOL</th>\n",
       "      <th>BID</th>\n",
       "      <th>OFR</th>\n",
       "      <th>N_OFFER</th>\n",
       "      <th>N_BID</th>\n",
       "    </tr>\n",
       "  </thead>\n",
       "  <tbody>\n",
       "    <tr>\n",
       "      <th>98527</th>\n",
       "      <td>20131231</td>\n",
       "      <td>15:56</td>\n",
       "      <td>2013</td>\n",
       "      <td>12</td>\n",
       "      <td>31</td>\n",
       "      <td>15</td>\n",
       "      <td>56</td>\n",
       "      <td>AAPL</td>\n",
       "      <td>561.14</td>\n",
       "      <td>561.21</td>\n",
       "      <td>1577.0</td>\n",
       "      <td>2588.0</td>\n",
       "    </tr>\n",
       "    <tr>\n",
       "      <th>98528</th>\n",
       "      <td>20131231</td>\n",
       "      <td>15:57</td>\n",
       "      <td>2013</td>\n",
       "      <td>12</td>\n",
       "      <td>31</td>\n",
       "      <td>15</td>\n",
       "      <td>57</td>\n",
       "      <td>AAPL</td>\n",
       "      <td>560.70</td>\n",
       "      <td>560.77</td>\n",
       "      <td>2540.0</td>\n",
       "      <td>2867.0</td>\n",
       "    </tr>\n",
       "    <tr>\n",
       "      <th>98529</th>\n",
       "      <td>20131231</td>\n",
       "      <td>15:58</td>\n",
       "      <td>2013</td>\n",
       "      <td>12</td>\n",
       "      <td>31</td>\n",
       "      <td>15</td>\n",
       "      <td>58</td>\n",
       "      <td>AAPL</td>\n",
       "      <td>560.55</td>\n",
       "      <td>560.60</td>\n",
       "      <td>2837.0</td>\n",
       "      <td>3185.0</td>\n",
       "    </tr>\n",
       "    <tr>\n",
       "      <th>98530</th>\n",
       "      <td>20131231</td>\n",
       "      <td>15:59</td>\n",
       "      <td>2013</td>\n",
       "      <td>12</td>\n",
       "      <td>31</td>\n",
       "      <td>15</td>\n",
       "      <td>59</td>\n",
       "      <td>AAPL</td>\n",
       "      <td>560.81</td>\n",
       "      <td>560.98</td>\n",
       "      <td>5891.0</td>\n",
       "      <td>7227.0</td>\n",
       "    </tr>\n",
       "    <tr>\n",
       "      <th>98531</th>\n",
       "      <td>20131231</td>\n",
       "      <td>16:00</td>\n",
       "      <td>2013</td>\n",
       "      <td>12</td>\n",
       "      <td>31</td>\n",
       "      <td>16</td>\n",
       "      <td>0</td>\n",
       "      <td>AAPL</td>\n",
       "      <td>561.11</td>\n",
       "      <td>561.19</td>\n",
       "      <td>9063.0</td>\n",
       "      <td>7702.0</td>\n",
       "    </tr>\n",
       "  </tbody>\n",
       "</table>\n",
       "</div>"
      ],
      "text/plain": [
       "          Date1  Time1  Year  Month  Day  Hour  Minute SYMBOL     BID     OFR  \\\n",
       "98527  20131231  15:56  2013     12   31    15      56   AAPL  561.14  561.21   \n",
       "98528  20131231  15:57  2013     12   31    15      57   AAPL  560.70  560.77   \n",
       "98529  20131231  15:58  2013     12   31    15      58   AAPL  560.55  560.60   \n",
       "98530  20131231  15:59  2013     12   31    15      59   AAPL  560.81  560.98   \n",
       "98531  20131231  16:00  2013     12   31    16       0   AAPL  561.11  561.19   \n",
       "\n",
       "       N_OFFER   N_BID  \n",
       "98527   1577.0  2588.0  \n",
       "98528   2540.0  2867.0  \n",
       "98529   2837.0  3185.0  \n",
       "98530   5891.0  7227.0  \n",
       "98531   9063.0  7702.0  "
      ]
     },
     "execution_count": 3,
     "metadata": {},
     "output_type": "execute_result"
    }
   ],
   "source": [
    "df.tail()"
   ]
  },
  {
   "cell_type": "code",
   "execution_count": 4,
   "metadata": {},
   "outputs": [
    {
     "data": {
      "text/html": [
       "<div>\n",
       "<style scoped>\n",
       "    .dataframe tbody tr th:only-of-type {\n",
       "        vertical-align: middle;\n",
       "    }\n",
       "\n",
       "    .dataframe tbody tr th {\n",
       "        vertical-align: top;\n",
       "    }\n",
       "\n",
       "    .dataframe thead th {\n",
       "        text-align: right;\n",
       "    }\n",
       "</style>\n",
       "<table border=\"1\" class=\"dataframe\">\n",
       "  <thead>\n",
       "    <tr style=\"text-align: right;\">\n",
       "      <th></th>\n",
       "      <th>Date1</th>\n",
       "      <th>Year</th>\n",
       "      <th>Month</th>\n",
       "      <th>Day</th>\n",
       "      <th>Hour</th>\n",
       "      <th>Minute</th>\n",
       "      <th>BID</th>\n",
       "      <th>OFR</th>\n",
       "      <th>N_OFFER</th>\n",
       "      <th>N_BID</th>\n",
       "    </tr>\n",
       "  </thead>\n",
       "  <tbody>\n",
       "    <tr>\n",
       "      <th>count</th>\n",
       "      <td>9.853200e+04</td>\n",
       "      <td>98532.0</td>\n",
       "      <td>98532.000000</td>\n",
       "      <td>98532.000000</td>\n",
       "      <td>98532.000000</td>\n",
       "      <td>98532.000000</td>\n",
       "      <td>98193.000000</td>\n",
       "      <td>98193.000000</td>\n",
       "      <td>9.819300e+04</td>\n",
       "      <td>9.819300e+04</td>\n",
       "    </tr>\n",
       "    <tr>\n",
       "      <th>mean</th>\n",
       "      <td>2.013067e+07</td>\n",
       "      <td>2013.0</td>\n",
       "      <td>6.543651</td>\n",
       "      <td>15.650794</td>\n",
       "      <td>12.240409</td>\n",
       "      <td>30.575448</td>\n",
       "      <td>471.024906</td>\n",
       "      <td>471.730246</td>\n",
       "      <td>3.481483e+03</td>\n",
       "      <td>3.785667e+03</td>\n",
       "    </tr>\n",
       "    <tr>\n",
       "      <th>std</th>\n",
       "      <td>3.427930e+02</td>\n",
       "      <td>0.0</td>\n",
       "      <td>3.426409</td>\n",
       "      <td>8.707200</td>\n",
       "      <td>1.894544</td>\n",
       "      <td>17.326909</td>\n",
       "      <td>51.694662</td>\n",
       "      <td>51.776169</td>\n",
       "      <td>1.694026e+04</td>\n",
       "      <td>2.505565e+04</td>\n",
       "    </tr>\n",
       "    <tr>\n",
       "      <th>min</th>\n",
       "      <td>2.013010e+07</td>\n",
       "      <td>2013.0</td>\n",
       "      <td>1.000000</td>\n",
       "      <td>1.000000</td>\n",
       "      <td>9.000000</td>\n",
       "      <td>0.000000</td>\n",
       "      <td>3.880000</td>\n",
       "      <td>3.950000</td>\n",
       "      <td>1.000000e+00</td>\n",
       "      <td>1.000000e+00</td>\n",
       "    </tr>\n",
       "    <tr>\n",
       "      <th>25%</th>\n",
       "      <td>2.013040e+07</td>\n",
       "      <td>2013.0</td>\n",
       "      <td>4.000000</td>\n",
       "      <td>8.000000</td>\n",
       "      <td>11.000000</td>\n",
       "      <td>16.000000</td>\n",
       "      <td>435.660000</td>\n",
       "      <td>436.320000</td>\n",
       "      <td>1.231000e+03</td>\n",
       "      <td>1.256000e+03</td>\n",
       "    </tr>\n",
       "    <tr>\n",
       "      <th>50%</th>\n",
       "      <td>2.013070e+07</td>\n",
       "      <td>2013.0</td>\n",
       "      <td>7.000000</td>\n",
       "      <td>15.500000</td>\n",
       "      <td>12.000000</td>\n",
       "      <td>32.000000</td>\n",
       "      <td>460.670000</td>\n",
       "      <td>461.290000</td>\n",
       "      <td>2.121000e+03</td>\n",
       "      <td>2.158000e+03</td>\n",
       "    </tr>\n",
       "    <tr>\n",
       "      <th>75%</th>\n",
       "      <td>2.013100e+07</td>\n",
       "      <td>2013.0</td>\n",
       "      <td>10.000000</td>\n",
       "      <td>23.000000</td>\n",
       "      <td>14.000000</td>\n",
       "      <td>46.000000</td>\n",
       "      <td>505.160000</td>\n",
       "      <td>506.120000</td>\n",
       "      <td>3.620000e+03</td>\n",
       "      <td>3.718000e+03</td>\n",
       "    </tr>\n",
       "    <tr>\n",
       "      <th>max</th>\n",
       "      <td>2.013123e+07</td>\n",
       "      <td>2013.0</td>\n",
       "      <td>12.000000</td>\n",
       "      <td>31.000000</td>\n",
       "      <td>16.000000</td>\n",
       "      <td>59.000000</td>\n",
       "      <td>574.690000</td>\n",
       "      <td>598.000000</td>\n",
       "      <td>1.117690e+06</td>\n",
       "      <td>2.837808e+06</td>\n",
       "    </tr>\n",
       "  </tbody>\n",
       "</table>\n",
       "</div>"
      ],
      "text/plain": [
       "              Date1     Year         Month           Day          Hour  \\\n",
       "count  9.853200e+04  98532.0  98532.000000  98532.000000  98532.000000   \n",
       "mean   2.013067e+07   2013.0      6.543651     15.650794     12.240409   \n",
       "std    3.427930e+02      0.0      3.426409      8.707200      1.894544   \n",
       "min    2.013010e+07   2013.0      1.000000      1.000000      9.000000   \n",
       "25%    2.013040e+07   2013.0      4.000000      8.000000     11.000000   \n",
       "50%    2.013070e+07   2013.0      7.000000     15.500000     12.000000   \n",
       "75%    2.013100e+07   2013.0     10.000000     23.000000     14.000000   \n",
       "max    2.013123e+07   2013.0     12.000000     31.000000     16.000000   \n",
       "\n",
       "             Minute           BID           OFR       N_OFFER         N_BID  \n",
       "count  98532.000000  98193.000000  98193.000000  9.819300e+04  9.819300e+04  \n",
       "mean      30.575448    471.024906    471.730246  3.481483e+03  3.785667e+03  \n",
       "std       17.326909     51.694662     51.776169  1.694026e+04  2.505565e+04  \n",
       "min        0.000000      3.880000      3.950000  1.000000e+00  1.000000e+00  \n",
       "25%       16.000000    435.660000    436.320000  1.231000e+03  1.256000e+03  \n",
       "50%       32.000000    460.670000    461.290000  2.121000e+03  2.158000e+03  \n",
       "75%       46.000000    505.160000    506.120000  3.620000e+03  3.718000e+03  \n",
       "max       59.000000    574.690000    598.000000  1.117690e+06  2.837808e+06  "
      ]
     },
     "execution_count": 4,
     "metadata": {},
     "output_type": "execute_result"
    }
   ],
   "source": [
    "df.describe()"
   ]
  },
  {
   "cell_type": "code",
   "execution_count": 5,
   "metadata": {},
   "outputs": [
    {
     "data": {
      "text/html": [
       "<div>\n",
       "<style scoped>\n",
       "    .dataframe tbody tr th:only-of-type {\n",
       "        vertical-align: middle;\n",
       "    }\n",
       "\n",
       "    .dataframe tbody tr th {\n",
       "        vertical-align: top;\n",
       "    }\n",
       "\n",
       "    .dataframe thead th {\n",
       "        text-align: right;\n",
       "    }\n",
       "</style>\n",
       "<table border=\"1\" class=\"dataframe\">\n",
       "  <thead>\n",
       "    <tr style=\"text-align: right;\">\n",
       "      <th></th>\n",
       "      <th>Date1</th>\n",
       "      <th>Time1</th>\n",
       "      <th>Year</th>\n",
       "      <th>Month</th>\n",
       "      <th>Day</th>\n",
       "      <th>Hour</th>\n",
       "      <th>Minute</th>\n",
       "      <th>SYMBOL</th>\n",
       "      <th>BID</th>\n",
       "      <th>OFR</th>\n",
       "      <th>N_OFFER</th>\n",
       "      <th>N_BID</th>\n",
       "    </tr>\n",
       "  </thead>\n",
       "  <tbody>\n",
       "    <tr>\n",
       "      <th>2013-01-02 09:30:00</th>\n",
       "      <td>20130102</td>\n",
       "      <td>09:30</td>\n",
       "      <td>2013</td>\n",
       "      <td>1</td>\n",
       "      <td>2</td>\n",
       "      <td>9</td>\n",
       "      <td>30</td>\n",
       "      <td>AAPL</td>\n",
       "      <td>553.45</td>\n",
       "      <td>553.63</td>\n",
       "      <td>6953.0</td>\n",
       "      <td>10359.0</td>\n",
       "    </tr>\n",
       "    <tr>\n",
       "      <th>2013-01-02 09:31:00</th>\n",
       "      <td>20130102</td>\n",
       "      <td>09:31</td>\n",
       "      <td>2013</td>\n",
       "      <td>1</td>\n",
       "      <td>2</td>\n",
       "      <td>9</td>\n",
       "      <td>31</td>\n",
       "      <td>AAPL</td>\n",
       "      <td>530.64</td>\n",
       "      <td>552.42</td>\n",
       "      <td>11562.0</td>\n",
       "      <td>11163.0</td>\n",
       "    </tr>\n",
       "    <tr>\n",
       "      <th>2013-01-02 09:32:00</th>\n",
       "      <td>20130102</td>\n",
       "      <td>09:32</td>\n",
       "      <td>2013</td>\n",
       "      <td>1</td>\n",
       "      <td>2</td>\n",
       "      <td>9</td>\n",
       "      <td>32</td>\n",
       "      <td>AAPL</td>\n",
       "      <td>550.84</td>\n",
       "      <td>551.35</td>\n",
       "      <td>7629.0</td>\n",
       "      <td>6001.0</td>\n",
       "    </tr>\n",
       "    <tr>\n",
       "      <th>2013-01-02 09:33:00</th>\n",
       "      <td>20130102</td>\n",
       "      <td>09:33</td>\n",
       "      <td>2013</td>\n",
       "      <td>1</td>\n",
       "      <td>2</td>\n",
       "      <td>9</td>\n",
       "      <td>33</td>\n",
       "      <td>AAPL</td>\n",
       "      <td>551.07</td>\n",
       "      <td>551.60</td>\n",
       "      <td>5306.0</td>\n",
       "      <td>5562.0</td>\n",
       "    </tr>\n",
       "    <tr>\n",
       "      <th>2013-01-02 09:34:00</th>\n",
       "      <td>20130102</td>\n",
       "      <td>09:34</td>\n",
       "      <td>2013</td>\n",
       "      <td>1</td>\n",
       "      <td>2</td>\n",
       "      <td>9</td>\n",
       "      <td>34</td>\n",
       "      <td>AAPL</td>\n",
       "      <td>552.02</td>\n",
       "      <td>552.92</td>\n",
       "      <td>7767.0</td>\n",
       "      <td>9202.0</td>\n",
       "    </tr>\n",
       "  </tbody>\n",
       "</table>\n",
       "</div>"
      ],
      "text/plain": [
       "                        Date1  Time1  Year  Month  Day  Hour  Minute SYMBOL  \\\n",
       "2013-01-02 09:30:00  20130102  09:30  2013      1    2     9      30   AAPL   \n",
       "2013-01-02 09:31:00  20130102  09:31  2013      1    2     9      31   AAPL   \n",
       "2013-01-02 09:32:00  20130102  09:32  2013      1    2     9      32   AAPL   \n",
       "2013-01-02 09:33:00  20130102  09:33  2013      1    2     9      33   AAPL   \n",
       "2013-01-02 09:34:00  20130102  09:34  2013      1    2     9      34   AAPL   \n",
       "\n",
       "                        BID     OFR  N_OFFER    N_BID  \n",
       "2013-01-02 09:30:00  553.45  553.63   6953.0  10359.0  \n",
       "2013-01-02 09:31:00  530.64  552.42  11562.0  11163.0  \n",
       "2013-01-02 09:32:00  550.84  551.35   7629.0   6001.0  \n",
       "2013-01-02 09:33:00  551.07  551.60   5306.0   5562.0  \n",
       "2013-01-02 09:34:00  552.02  552.92   7767.0   9202.0  "
      ]
     },
     "execution_count": 5,
     "metadata": {},
     "output_type": "execute_result"
    }
   ],
   "source": [
    "#2.\n",
    "df.index = pd.to_datetime(df[['Year', 'Month', 'Day','Hour', 'Minute']])\n",
    "df.head()"
   ]
  },
  {
   "cell_type": "code",
   "execution_count": 6,
   "metadata": {},
   "outputs": [
    {
     "data": {
      "text/html": [
       "<div>\n",
       "<style scoped>\n",
       "    .dataframe tbody tr th:only-of-type {\n",
       "        vertical-align: middle;\n",
       "    }\n",
       "\n",
       "    .dataframe tbody tr th {\n",
       "        vertical-align: top;\n",
       "    }\n",
       "\n",
       "    .dataframe thead th {\n",
       "        text-align: right;\n",
       "    }\n",
       "</style>\n",
       "<table border=\"1\" class=\"dataframe\">\n",
       "  <thead>\n",
       "    <tr style=\"text-align: right;\">\n",
       "      <th></th>\n",
       "      <th>Date1</th>\n",
       "      <th>Time1</th>\n",
       "      <th>Year</th>\n",
       "      <th>Month</th>\n",
       "      <th>Day</th>\n",
       "      <th>Hour</th>\n",
       "      <th>Minute</th>\n",
       "      <th>SYMBOL</th>\n",
       "      <th>BID</th>\n",
       "      <th>OFR</th>\n",
       "      <th>N_OFFER</th>\n",
       "      <th>N_BID</th>\n",
       "      <th>AvgPriceAAPL</th>\n",
       "    </tr>\n",
       "  </thead>\n",
       "  <tbody>\n",
       "    <tr>\n",
       "      <th>2013-01-02 09:30:00</th>\n",
       "      <td>20130102</td>\n",
       "      <td>09:30</td>\n",
       "      <td>2013</td>\n",
       "      <td>1</td>\n",
       "      <td>2</td>\n",
       "      <td>9</td>\n",
       "      <td>30</td>\n",
       "      <td>AAPL</td>\n",
       "      <td>553.45</td>\n",
       "      <td>553.63</td>\n",
       "      <td>6953.0</td>\n",
       "      <td>10359.0</td>\n",
       "      <td>553.540</td>\n",
       "    </tr>\n",
       "    <tr>\n",
       "      <th>2013-01-02 09:31:00</th>\n",
       "      <td>20130102</td>\n",
       "      <td>09:31</td>\n",
       "      <td>2013</td>\n",
       "      <td>1</td>\n",
       "      <td>2</td>\n",
       "      <td>9</td>\n",
       "      <td>31</td>\n",
       "      <td>AAPL</td>\n",
       "      <td>530.64</td>\n",
       "      <td>552.42</td>\n",
       "      <td>11562.0</td>\n",
       "      <td>11163.0</td>\n",
       "      <td>541.530</td>\n",
       "    </tr>\n",
       "    <tr>\n",
       "      <th>2013-01-02 09:32:00</th>\n",
       "      <td>20130102</td>\n",
       "      <td>09:32</td>\n",
       "      <td>2013</td>\n",
       "      <td>1</td>\n",
       "      <td>2</td>\n",
       "      <td>9</td>\n",
       "      <td>32</td>\n",
       "      <td>AAPL</td>\n",
       "      <td>550.84</td>\n",
       "      <td>551.35</td>\n",
       "      <td>7629.0</td>\n",
       "      <td>6001.0</td>\n",
       "      <td>551.095</td>\n",
       "    </tr>\n",
       "    <tr>\n",
       "      <th>2013-01-02 09:33:00</th>\n",
       "      <td>20130102</td>\n",
       "      <td>09:33</td>\n",
       "      <td>2013</td>\n",
       "      <td>1</td>\n",
       "      <td>2</td>\n",
       "      <td>9</td>\n",
       "      <td>33</td>\n",
       "      <td>AAPL</td>\n",
       "      <td>551.07</td>\n",
       "      <td>551.60</td>\n",
       "      <td>5306.0</td>\n",
       "      <td>5562.0</td>\n",
       "      <td>551.335</td>\n",
       "    </tr>\n",
       "    <tr>\n",
       "      <th>2013-01-02 09:34:00</th>\n",
       "      <td>20130102</td>\n",
       "      <td>09:34</td>\n",
       "      <td>2013</td>\n",
       "      <td>1</td>\n",
       "      <td>2</td>\n",
       "      <td>9</td>\n",
       "      <td>34</td>\n",
       "      <td>AAPL</td>\n",
       "      <td>552.02</td>\n",
       "      <td>552.92</td>\n",
       "      <td>7767.0</td>\n",
       "      <td>9202.0</td>\n",
       "      <td>552.470</td>\n",
       "    </tr>\n",
       "  </tbody>\n",
       "</table>\n",
       "</div>"
      ],
      "text/plain": [
       "                        Date1  Time1  Year  Month  Day  Hour  Minute SYMBOL  \\\n",
       "2013-01-02 09:30:00  20130102  09:30  2013      1    2     9      30   AAPL   \n",
       "2013-01-02 09:31:00  20130102  09:31  2013      1    2     9      31   AAPL   \n",
       "2013-01-02 09:32:00  20130102  09:32  2013      1    2     9      32   AAPL   \n",
       "2013-01-02 09:33:00  20130102  09:33  2013      1    2     9      33   AAPL   \n",
       "2013-01-02 09:34:00  20130102  09:34  2013      1    2     9      34   AAPL   \n",
       "\n",
       "                        BID     OFR  N_OFFER    N_BID  AvgPriceAAPL  \n",
       "2013-01-02 09:30:00  553.45  553.63   6953.0  10359.0       553.540  \n",
       "2013-01-02 09:31:00  530.64  552.42  11562.0  11163.0       541.530  \n",
       "2013-01-02 09:32:00  550.84  551.35   7629.0   6001.0       551.095  \n",
       "2013-01-02 09:33:00  551.07  551.60   5306.0   5562.0       551.335  \n",
       "2013-01-02 09:34:00  552.02  552.92   7767.0   9202.0       552.470  "
      ]
     },
     "execution_count": 6,
     "metadata": {},
     "output_type": "execute_result"
    }
   ],
   "source": [
    "#3.\n",
    "df['AvgPriceAAPL'] = (df['OFR']+df['BID'])/2\n",
    "df.head()"
   ]
  },
  {
   "cell_type": "code",
   "execution_count": 7,
   "metadata": {},
   "outputs": [
    {
     "data": {
      "text/html": [
       "<div>\n",
       "<style scoped>\n",
       "    .dataframe tbody tr th:only-of-type {\n",
       "        vertical-align: middle;\n",
       "    }\n",
       "\n",
       "    .dataframe tbody tr th {\n",
       "        vertical-align: top;\n",
       "    }\n",
       "\n",
       "    .dataframe thead th {\n",
       "        text-align: right;\n",
       "    }\n",
       "</style>\n",
       "<table border=\"1\" class=\"dataframe\">\n",
       "  <thead>\n",
       "    <tr style=\"text-align: right;\">\n",
       "      <th></th>\n",
       "      <th>Date1</th>\n",
       "      <th>Time1</th>\n",
       "      <th>Year</th>\n",
       "      <th>Month</th>\n",
       "      <th>Day</th>\n",
       "      <th>Hour</th>\n",
       "      <th>Minute</th>\n",
       "      <th>SYMBOL</th>\n",
       "      <th>BID</th>\n",
       "      <th>OFR</th>\n",
       "      <th>N_OFFER</th>\n",
       "      <th>N_BID</th>\n",
       "      <th>AvgPriceAAPL</th>\n",
       "      <th>RetAAPL0</th>\n",
       "    </tr>\n",
       "  </thead>\n",
       "  <tbody>\n",
       "    <tr>\n",
       "      <th>2013-01-02 09:30:00</th>\n",
       "      <td>20130102</td>\n",
       "      <td>09:30</td>\n",
       "      <td>2013</td>\n",
       "      <td>1</td>\n",
       "      <td>2</td>\n",
       "      <td>9</td>\n",
       "      <td>30</td>\n",
       "      <td>AAPL</td>\n",
       "      <td>553.45</td>\n",
       "      <td>553.63</td>\n",
       "      <td>6953.0</td>\n",
       "      <td>10359.0</td>\n",
       "      <td>553.540</td>\n",
       "      <td>NaN</td>\n",
       "    </tr>\n",
       "    <tr>\n",
       "      <th>2013-01-02 09:31:00</th>\n",
       "      <td>20130102</td>\n",
       "      <td>09:31</td>\n",
       "      <td>2013</td>\n",
       "      <td>1</td>\n",
       "      <td>2</td>\n",
       "      <td>9</td>\n",
       "      <td>31</td>\n",
       "      <td>AAPL</td>\n",
       "      <td>530.64</td>\n",
       "      <td>552.42</td>\n",
       "      <td>11562.0</td>\n",
       "      <td>11163.0</td>\n",
       "      <td>541.530</td>\n",
       "      <td>-2.169672</td>\n",
       "    </tr>\n",
       "    <tr>\n",
       "      <th>2013-01-02 09:32:00</th>\n",
       "      <td>20130102</td>\n",
       "      <td>09:32</td>\n",
       "      <td>2013</td>\n",
       "      <td>1</td>\n",
       "      <td>2</td>\n",
       "      <td>9</td>\n",
       "      <td>32</td>\n",
       "      <td>AAPL</td>\n",
       "      <td>550.84</td>\n",
       "      <td>551.35</td>\n",
       "      <td>7629.0</td>\n",
       "      <td>6001.0</td>\n",
       "      <td>551.095</td>\n",
       "      <td>1.766292</td>\n",
       "    </tr>\n",
       "    <tr>\n",
       "      <th>2013-01-02 09:33:00</th>\n",
       "      <td>20130102</td>\n",
       "      <td>09:33</td>\n",
       "      <td>2013</td>\n",
       "      <td>1</td>\n",
       "      <td>2</td>\n",
       "      <td>9</td>\n",
       "      <td>33</td>\n",
       "      <td>AAPL</td>\n",
       "      <td>551.07</td>\n",
       "      <td>551.60</td>\n",
       "      <td>5306.0</td>\n",
       "      <td>5562.0</td>\n",
       "      <td>551.335</td>\n",
       "      <td>0.043550</td>\n",
       "    </tr>\n",
       "    <tr>\n",
       "      <th>2013-01-02 09:34:00</th>\n",
       "      <td>20130102</td>\n",
       "      <td>09:34</td>\n",
       "      <td>2013</td>\n",
       "      <td>1</td>\n",
       "      <td>2</td>\n",
       "      <td>9</td>\n",
       "      <td>34</td>\n",
       "      <td>AAPL</td>\n",
       "      <td>552.02</td>\n",
       "      <td>552.92</td>\n",
       "      <td>7767.0</td>\n",
       "      <td>9202.0</td>\n",
       "      <td>552.470</td>\n",
       "      <td>0.205864</td>\n",
       "    </tr>\n",
       "  </tbody>\n",
       "</table>\n",
       "</div>"
      ],
      "text/plain": [
       "                        Date1  Time1  Year  Month  Day  Hour  Minute SYMBOL  \\\n",
       "2013-01-02 09:30:00  20130102  09:30  2013      1    2     9      30   AAPL   \n",
       "2013-01-02 09:31:00  20130102  09:31  2013      1    2     9      31   AAPL   \n",
       "2013-01-02 09:32:00  20130102  09:32  2013      1    2     9      32   AAPL   \n",
       "2013-01-02 09:33:00  20130102  09:33  2013      1    2     9      33   AAPL   \n",
       "2013-01-02 09:34:00  20130102  09:34  2013      1    2     9      34   AAPL   \n",
       "\n",
       "                        BID     OFR  N_OFFER    N_BID  AvgPriceAAPL  RetAAPL0  \n",
       "2013-01-02 09:30:00  553.45  553.63   6953.0  10359.0       553.540       NaN  \n",
       "2013-01-02 09:31:00  530.64  552.42  11562.0  11163.0       541.530 -2.169672  \n",
       "2013-01-02 09:32:00  550.84  551.35   7629.0   6001.0       551.095  1.766292  \n",
       "2013-01-02 09:33:00  551.07  551.60   5306.0   5562.0       551.335  0.043550  \n",
       "2013-01-02 09:34:00  552.02  552.92   7767.0   9202.0       552.470  0.205864  "
      ]
     },
     "execution_count": 7,
     "metadata": {},
     "output_type": "execute_result"
    }
   ],
   "source": [
    "#4.\n",
    "df['RetAAPL0'] = 100*(df['AvgPriceAAPL']).pct_change()\n",
    "df.head()"
   ]
  },
  {
   "cell_type": "code",
   "execution_count": 8,
   "metadata": {},
   "outputs": [
    {
     "data": {
      "text/html": [
       "<div>\n",
       "<style scoped>\n",
       "    .dataframe tbody tr th:only-of-type {\n",
       "        vertical-align: middle;\n",
       "    }\n",
       "\n",
       "    .dataframe tbody tr th {\n",
       "        vertical-align: top;\n",
       "    }\n",
       "\n",
       "    .dataframe thead th {\n",
       "        text-align: right;\n",
       "    }\n",
       "</style>\n",
       "<table border=\"1\" class=\"dataframe\">\n",
       "  <thead>\n",
       "    <tr style=\"text-align: right;\">\n",
       "      <th></th>\n",
       "      <th>Date1</th>\n",
       "      <th>Time1</th>\n",
       "      <th>Year</th>\n",
       "      <th>Month</th>\n",
       "      <th>Day</th>\n",
       "      <th>Hour</th>\n",
       "      <th>Minute</th>\n",
       "      <th>SYMBOL</th>\n",
       "      <th>BID</th>\n",
       "      <th>OFR</th>\n",
       "      <th>N_OFFER</th>\n",
       "      <th>N_BID</th>\n",
       "      <th>AvgPriceAAPL</th>\n",
       "      <th>RetAAPL0</th>\n",
       "      <th>RetAAPL1</th>\n",
       "      <th>RetAAPL2</th>\n",
       "      <th>RetAAPL3</th>\n",
       "      <th>RetAAPL4</th>\n",
       "      <th>RetAAPL5</th>\n",
       "    </tr>\n",
       "  </thead>\n",
       "  <tbody>\n",
       "    <tr>\n",
       "      <th>2013-01-02 09:30:00</th>\n",
       "      <td>20130102</td>\n",
       "      <td>09:30</td>\n",
       "      <td>2013</td>\n",
       "      <td>1</td>\n",
       "      <td>2</td>\n",
       "      <td>9</td>\n",
       "      <td>30</td>\n",
       "      <td>AAPL</td>\n",
       "      <td>553.45</td>\n",
       "      <td>553.63</td>\n",
       "      <td>6953.0</td>\n",
       "      <td>10359.0</td>\n",
       "      <td>553.540</td>\n",
       "      <td>NaN</td>\n",
       "      <td>-2.169672</td>\n",
       "      <td>1.766292</td>\n",
       "      <td>0.043550</td>\n",
       "      <td>0.205864</td>\n",
       "      <td>0.335765</td>\n",
       "    </tr>\n",
       "    <tr>\n",
       "      <th>2013-01-02 09:31:00</th>\n",
       "      <td>20130102</td>\n",
       "      <td>09:31</td>\n",
       "      <td>2013</td>\n",
       "      <td>1</td>\n",
       "      <td>2</td>\n",
       "      <td>9</td>\n",
       "      <td>31</td>\n",
       "      <td>AAPL</td>\n",
       "      <td>530.64</td>\n",
       "      <td>552.42</td>\n",
       "      <td>11562.0</td>\n",
       "      <td>11163.0</td>\n",
       "      <td>541.530</td>\n",
       "      <td>-2.169672</td>\n",
       "      <td>1.766292</td>\n",
       "      <td>0.043550</td>\n",
       "      <td>0.205864</td>\n",
       "      <td>0.335765</td>\n",
       "      <td>-0.124476</td>\n",
       "    </tr>\n",
       "    <tr>\n",
       "      <th>2013-01-02 09:32:00</th>\n",
       "      <td>20130102</td>\n",
       "      <td>09:32</td>\n",
       "      <td>2013</td>\n",
       "      <td>1</td>\n",
       "      <td>2</td>\n",
       "      <td>9</td>\n",
       "      <td>32</td>\n",
       "      <td>AAPL</td>\n",
       "      <td>550.84</td>\n",
       "      <td>551.35</td>\n",
       "      <td>7629.0</td>\n",
       "      <td>6001.0</td>\n",
       "      <td>551.095</td>\n",
       "      <td>1.766292</td>\n",
       "      <td>0.043550</td>\n",
       "      <td>0.205864</td>\n",
       "      <td>0.335765</td>\n",
       "      <td>-0.124476</td>\n",
       "      <td>-0.048769</td>\n",
       "    </tr>\n",
       "    <tr>\n",
       "      <th>2013-01-02 09:33:00</th>\n",
       "      <td>20130102</td>\n",
       "      <td>09:33</td>\n",
       "      <td>2013</td>\n",
       "      <td>1</td>\n",
       "      <td>2</td>\n",
       "      <td>9</td>\n",
       "      <td>33</td>\n",
       "      <td>AAPL</td>\n",
       "      <td>551.07</td>\n",
       "      <td>551.60</td>\n",
       "      <td>5306.0</td>\n",
       "      <td>5562.0</td>\n",
       "      <td>551.335</td>\n",
       "      <td>0.043550</td>\n",
       "      <td>0.205864</td>\n",
       "      <td>0.335765</td>\n",
       "      <td>-0.124476</td>\n",
       "      <td>-0.048769</td>\n",
       "      <td>-0.052407</td>\n",
       "    </tr>\n",
       "    <tr>\n",
       "      <th>2013-01-02 09:34:00</th>\n",
       "      <td>20130102</td>\n",
       "      <td>09:34</td>\n",
       "      <td>2013</td>\n",
       "      <td>1</td>\n",
       "      <td>2</td>\n",
       "      <td>9</td>\n",
       "      <td>34</td>\n",
       "      <td>AAPL</td>\n",
       "      <td>552.02</td>\n",
       "      <td>552.92</td>\n",
       "      <td>7767.0</td>\n",
       "      <td>9202.0</td>\n",
       "      <td>552.470</td>\n",
       "      <td>0.205864</td>\n",
       "      <td>0.335765</td>\n",
       "      <td>-0.124476</td>\n",
       "      <td>-0.048769</td>\n",
       "      <td>-0.052407</td>\n",
       "      <td>-0.081363</td>\n",
       "    </tr>\n",
       "  </tbody>\n",
       "</table>\n",
       "</div>"
      ],
      "text/plain": [
       "                        Date1  Time1  Year  Month  Day  Hour  Minute SYMBOL  \\\n",
       "2013-01-02 09:30:00  20130102  09:30  2013      1    2     9      30   AAPL   \n",
       "2013-01-02 09:31:00  20130102  09:31  2013      1    2     9      31   AAPL   \n",
       "2013-01-02 09:32:00  20130102  09:32  2013      1    2     9      32   AAPL   \n",
       "2013-01-02 09:33:00  20130102  09:33  2013      1    2     9      33   AAPL   \n",
       "2013-01-02 09:34:00  20130102  09:34  2013      1    2     9      34   AAPL   \n",
       "\n",
       "                        BID     OFR  N_OFFER    N_BID  AvgPriceAAPL  RetAAPL0  \\\n",
       "2013-01-02 09:30:00  553.45  553.63   6953.0  10359.0       553.540       NaN   \n",
       "2013-01-02 09:31:00  530.64  552.42  11562.0  11163.0       541.530 -2.169672   \n",
       "2013-01-02 09:32:00  550.84  551.35   7629.0   6001.0       551.095  1.766292   \n",
       "2013-01-02 09:33:00  551.07  551.60   5306.0   5562.0       551.335  0.043550   \n",
       "2013-01-02 09:34:00  552.02  552.92   7767.0   9202.0       552.470  0.205864   \n",
       "\n",
       "                     RetAAPL1  RetAAPL2  RetAAPL3  RetAAPL4  RetAAPL5  \n",
       "2013-01-02 09:30:00 -2.169672  1.766292  0.043550  0.205864  0.335765  \n",
       "2013-01-02 09:31:00  1.766292  0.043550  0.205864  0.335765 -0.124476  \n",
       "2013-01-02 09:32:00  0.043550  0.205864  0.335765 -0.124476 -0.048769  \n",
       "2013-01-02 09:33:00  0.205864  0.335765 -0.124476 -0.048769 -0.052407  \n",
       "2013-01-02 09:34:00  0.335765 -0.124476 -0.048769 -0.052407 -0.081363  "
      ]
     },
     "execution_count": 8,
     "metadata": {},
     "output_type": "execute_result"
    }
   ],
   "source": [
    "#5.\n",
    "for i in np.arange(1,6):    \n",
    "    df['RetAAPL{0}'.format(i)] = df['RetAAPL0'].shift(periods=-i)\n",
    "df.head()"
   ]
  },
  {
   "cell_type": "code",
   "execution_count": 9,
   "metadata": {},
   "outputs": [
    {
     "data": {
      "text/html": [
       "<div>\n",
       "<style scoped>\n",
       "    .dataframe tbody tr th:only-of-type {\n",
       "        vertical-align: middle;\n",
       "    }\n",
       "\n",
       "    .dataframe tbody tr th {\n",
       "        vertical-align: top;\n",
       "    }\n",
       "\n",
       "    .dataframe thead th {\n",
       "        text-align: right;\n",
       "    }\n",
       "</style>\n",
       "<table border=\"1\" class=\"dataframe\">\n",
       "  <thead>\n",
       "    <tr style=\"text-align: right;\">\n",
       "      <th></th>\n",
       "      <th>Date1</th>\n",
       "      <th>Time1</th>\n",
       "      <th>Year</th>\n",
       "      <th>Month</th>\n",
       "      <th>Day</th>\n",
       "      <th>Hour</th>\n",
       "      <th>Minute</th>\n",
       "      <th>SYMBOL</th>\n",
       "      <th>BID</th>\n",
       "      <th>OFR</th>\n",
       "      <th>...</th>\n",
       "      <th>N_BID</th>\n",
       "      <th>AvgPriceAAPL</th>\n",
       "      <th>RetAAPL0</th>\n",
       "      <th>RetAAPL1</th>\n",
       "      <th>RetAAPL2</th>\n",
       "      <th>RetAAPL3</th>\n",
       "      <th>RetAAPL4</th>\n",
       "      <th>RetAAPL5</th>\n",
       "      <th>BASprd</th>\n",
       "      <th>BAImb</th>\n",
       "    </tr>\n",
       "  </thead>\n",
       "  <tbody>\n",
       "    <tr>\n",
       "      <th>2013-01-02 09:30:00</th>\n",
       "      <td>20130102</td>\n",
       "      <td>09:30</td>\n",
       "      <td>2013</td>\n",
       "      <td>1</td>\n",
       "      <td>2</td>\n",
       "      <td>9</td>\n",
       "      <td>30</td>\n",
       "      <td>AAPL</td>\n",
       "      <td>553.45</td>\n",
       "      <td>553.63</td>\n",
       "      <td>...</td>\n",
       "      <td>10359.0</td>\n",
       "      <td>553.540</td>\n",
       "      <td>NaN</td>\n",
       "      <td>-2.169672</td>\n",
       "      <td>1.766292</td>\n",
       "      <td>0.043550</td>\n",
       "      <td>0.205864</td>\n",
       "      <td>0.335765</td>\n",
       "      <td>0.016259</td>\n",
       "      <td>19.674214</td>\n",
       "    </tr>\n",
       "    <tr>\n",
       "      <th>2013-01-02 09:31:00</th>\n",
       "      <td>20130102</td>\n",
       "      <td>09:31</td>\n",
       "      <td>2013</td>\n",
       "      <td>1</td>\n",
       "      <td>2</td>\n",
       "      <td>9</td>\n",
       "      <td>31</td>\n",
       "      <td>AAPL</td>\n",
       "      <td>530.64</td>\n",
       "      <td>552.42</td>\n",
       "      <td>...</td>\n",
       "      <td>11163.0</td>\n",
       "      <td>541.530</td>\n",
       "      <td>-2.169672</td>\n",
       "      <td>1.766292</td>\n",
       "      <td>0.043550</td>\n",
       "      <td>0.205864</td>\n",
       "      <td>0.335765</td>\n",
       "      <td>-0.124476</td>\n",
       "      <td>2.010969</td>\n",
       "      <td>-1.755776</td>\n",
       "    </tr>\n",
       "    <tr>\n",
       "      <th>2013-01-02 09:32:00</th>\n",
       "      <td>20130102</td>\n",
       "      <td>09:32</td>\n",
       "      <td>2013</td>\n",
       "      <td>1</td>\n",
       "      <td>2</td>\n",
       "      <td>9</td>\n",
       "      <td>32</td>\n",
       "      <td>AAPL</td>\n",
       "      <td>550.84</td>\n",
       "      <td>551.35</td>\n",
       "      <td>...</td>\n",
       "      <td>6001.0</td>\n",
       "      <td>551.095</td>\n",
       "      <td>1.766292</td>\n",
       "      <td>0.043550</td>\n",
       "      <td>0.205864</td>\n",
       "      <td>0.335765</td>\n",
       "      <td>-0.124476</td>\n",
       "      <td>-0.048769</td>\n",
       "      <td>0.046272</td>\n",
       "      <td>-11.944241</td>\n",
       "    </tr>\n",
       "    <tr>\n",
       "      <th>2013-01-02 09:33:00</th>\n",
       "      <td>20130102</td>\n",
       "      <td>09:33</td>\n",
       "      <td>2013</td>\n",
       "      <td>1</td>\n",
       "      <td>2</td>\n",
       "      <td>9</td>\n",
       "      <td>33</td>\n",
       "      <td>AAPL</td>\n",
       "      <td>551.07</td>\n",
       "      <td>551.60</td>\n",
       "      <td>...</td>\n",
       "      <td>5562.0</td>\n",
       "      <td>551.335</td>\n",
       "      <td>0.043550</td>\n",
       "      <td>0.205864</td>\n",
       "      <td>0.335765</td>\n",
       "      <td>-0.124476</td>\n",
       "      <td>-0.048769</td>\n",
       "      <td>-0.052407</td>\n",
       "      <td>0.048065</td>\n",
       "      <td>2.355539</td>\n",
       "    </tr>\n",
       "    <tr>\n",
       "      <th>2013-01-02 09:34:00</th>\n",
       "      <td>20130102</td>\n",
       "      <td>09:34</td>\n",
       "      <td>2013</td>\n",
       "      <td>1</td>\n",
       "      <td>2</td>\n",
       "      <td>9</td>\n",
       "      <td>34</td>\n",
       "      <td>AAPL</td>\n",
       "      <td>552.02</td>\n",
       "      <td>552.92</td>\n",
       "      <td>...</td>\n",
       "      <td>9202.0</td>\n",
       "      <td>552.470</td>\n",
       "      <td>0.205864</td>\n",
       "      <td>0.335765</td>\n",
       "      <td>-0.124476</td>\n",
       "      <td>-0.048769</td>\n",
       "      <td>-0.052407</td>\n",
       "      <td>-0.081363</td>\n",
       "      <td>0.081452</td>\n",
       "      <td>8.456597</td>\n",
       "    </tr>\n",
       "  </tbody>\n",
       "</table>\n",
       "<p>5 rows × 21 columns</p>\n",
       "</div>"
      ],
      "text/plain": [
       "                        Date1  Time1  Year  Month  Day  Hour  Minute SYMBOL  \\\n",
       "2013-01-02 09:30:00  20130102  09:30  2013      1    2     9      30   AAPL   \n",
       "2013-01-02 09:31:00  20130102  09:31  2013      1    2     9      31   AAPL   \n",
       "2013-01-02 09:32:00  20130102  09:32  2013      1    2     9      32   AAPL   \n",
       "2013-01-02 09:33:00  20130102  09:33  2013      1    2     9      33   AAPL   \n",
       "2013-01-02 09:34:00  20130102  09:34  2013      1    2     9      34   AAPL   \n",
       "\n",
       "                        BID     OFR  ...    N_BID  AvgPriceAAPL  RetAAPL0  \\\n",
       "2013-01-02 09:30:00  553.45  553.63  ...  10359.0       553.540       NaN   \n",
       "2013-01-02 09:31:00  530.64  552.42  ...  11163.0       541.530 -2.169672   \n",
       "2013-01-02 09:32:00  550.84  551.35  ...   6001.0       551.095  1.766292   \n",
       "2013-01-02 09:33:00  551.07  551.60  ...   5562.0       551.335  0.043550   \n",
       "2013-01-02 09:34:00  552.02  552.92  ...   9202.0       552.470  0.205864   \n",
       "\n",
       "                     RetAAPL1  RetAAPL2  RetAAPL3  RetAAPL4  RetAAPL5  \\\n",
       "2013-01-02 09:30:00 -2.169672  1.766292  0.043550  0.205864  0.335765   \n",
       "2013-01-02 09:31:00  1.766292  0.043550  0.205864  0.335765 -0.124476   \n",
       "2013-01-02 09:32:00  0.043550  0.205864  0.335765 -0.124476 -0.048769   \n",
       "2013-01-02 09:33:00  0.205864  0.335765 -0.124476 -0.048769 -0.052407   \n",
       "2013-01-02 09:34:00  0.335765 -0.124476 -0.048769 -0.052407 -0.081363   \n",
       "\n",
       "                       BASprd      BAImb  \n",
       "2013-01-02 09:30:00  0.016259  19.674214  \n",
       "2013-01-02 09:31:00  2.010969  -1.755776  \n",
       "2013-01-02 09:32:00  0.046272 -11.944241  \n",
       "2013-01-02 09:33:00  0.048065   2.355539  \n",
       "2013-01-02 09:34:00  0.081452   8.456597  \n",
       "\n",
       "[5 rows x 21 columns]"
      ]
     },
     "execution_count": 9,
     "metadata": {},
     "output_type": "execute_result"
    }
   ],
   "source": [
    "#6.\n",
    "df['BASprd'] = 100*(df['OFR']-df['BID'])/(df['OFR']+df['BID'])\n",
    "df['BAImb'] = 100*(df['N_BID']-df['N_OFFER'])/(df['N_BID']+df['N_OFFER'])\n",
    "df.head()"
   ]
  },
  {
   "cell_type": "code",
   "execution_count": 10,
   "metadata": {},
   "outputs": [],
   "source": [
    "#7.\n",
    "df.dropna(how='any', inplace=True)"
   ]
  },
  {
   "cell_type": "code",
   "execution_count": 11,
   "metadata": {},
   "outputs": [
    {
     "data": {
      "text/plain": [
       "[<matplotlib.lines.Line2D at 0x1ac30bd0d08>]"
      ]
     },
     "execution_count": 11,
     "metadata": {},
     "output_type": "execute_result"
    },
    {
     "data": {
      "image/png": "[encoded data removed]",
      "text/plain": [
       "<Figure size 432x288 with 1 Axes>"
      ]
     },
     "metadata": {
      "needs_background": "light"
     },
     "output_type": "display_data"
    }
   ],
   "source": [
    "#8.\n",
    "plt.plot(df['AvgPriceAAPL'])"
   ]
  },
  {
   "cell_type": "code",
   "execution_count": 12,
   "metadata": {},
   "outputs": [
    {
     "data": {
      "text/plain": [
       "[<matplotlib.lines.Line2D at 0x1ac32a5e888>]"
      ]
     },
     "execution_count": 12,
     "metadata": {},
     "output_type": "execute_result"
    },
    {
     "data": {
      "image/png": "[encoded data removed]",
      "text/plain": [
       "<Figure size 1152x432 with 2 Axes>"
      ]
     },
     "metadata": {
      "needs_background": "light"
     },
     "output_type": "display_data"
    }
   ],
   "source": [
    "#9.\n",
    "fig, ax = plt.subplots(1, 2, figsize = (16,6))\n",
    "ax[0].plot(df.loc['2013-06-05','AvgPriceAAPL'])\n",
    "ax[1].plot(df.loc['2013-06-06','AvgPriceAAPL'])"
   ]
  },
  {
   "cell_type": "code",
   "execution_count": 13,
   "metadata": {},
   "outputs": [],
   "source": [
    "#10.\n",
    "remove = df.loc['2013-06-05':'2013-06-06']\n",
    "df = df.drop(remove.index)"
   ]
  },
  {
   "cell_type": "code",
   "execution_count": 14,
   "metadata": {},
   "outputs": [
    {
     "data": {
      "text/plain": [
       "[<matplotlib.lines.Line2D at 0x1ac32f3c608>]"
      ]
     },
     "execution_count": 14,
     "metadata": {},
     "output_type": "execute_result"
    },
    {
     "data": {
      "image/png": "[encoded data removed]",
      "text/plain": [
       "<Figure size 432x288 with 1 Axes>"
      ]
     },
     "metadata": {
      "needs_background": "light"
     },
     "output_type": "display_data"
    }
   ],
   "source": [
    "#11.\n",
    "plt.plot(df['AvgPriceAAPL'])"
   ]
  },
  {
   "cell_type": "code",
   "execution_count": 15,
   "metadata": {},
   "outputs": [],
   "source": [
    "#12.\n",
    "start_date_train = '2013-01-02'\n",
    "end_date_train = '2013-01-31'\n",
    "start_date_test = '2013-02-01'\n",
    "end_date_test = '2013-02-28'\n"
   ]
  },
  {
   "cell_type": "code",
   "execution_count": 16,
   "metadata": {},
   "outputs": [],
   "source": [
    "#13.\n",
    "Xtrain = df.loc[start_date_train:end_date_train,'RetAAPL0':'RetAAPL4'].values\n",
    "ytrain = (df.loc[start_date_train:end_date_train,'RetAAPL5'].values >0 ).astype(int)\n",
    "\n",
    "Xtest = df.loc[start_date_test:end_date_test,'RetAAPL0':'RetAAPL4'].values\n",
    "ytest = (df.loc[start_date_test:end_date_test,'RetAAPL5'].values >0 ).astype(int)"
   ]
  },
  {
   "cell_type": "code",
   "execution_count": 35,
   "metadata": {},
   "outputs": [
    {
     "data": {
      "text/plain": [
       "array([[-2.16967157,  1.7662918 ,  0.04354966,  0.20586395,  0.33576484],\n",
       "       [ 1.7662918 ,  0.04354966,  0.20586395,  0.33576484, -0.12447571],\n",
       "       [ 0.04354966,  0.20586395,  0.33576484, -0.12447571, -0.04876859],\n",
       "       ...,\n",
       "       [ 0.01095398, -0.09309865, -0.03508156,  0.52750483, -0.16800305],\n",
       "       [-0.09309865, -0.03508156,  0.52750483, -0.16800305,  5.69330463],\n",
       "       [-0.03508156,  0.52750483, -0.16800305,  5.69330463, -5.28220345]])"
      ]
     },
     "execution_count": 35,
     "metadata": {},
     "output_type": "execute_result"
    }
   ],
   "source": [
    "Xtrain"
   ]
  },
  {
   "cell_type": "code",
   "execution_count": 17,
   "metadata": {},
   "outputs": [
    {
     "data": {
      "text/plain": [
       "0.5028940638040114"
      ]
     },
     "execution_count": 17,
     "metadata": {},
     "output_type": "execute_result"
    }
   ],
   "source": [
    "#14.\n",
    "model = GaussianNB()   \n",
    "model.fit(Xtrain,ytrain)\n",
    "y_model_NB = model.predict(Xtest)\n",
    "from sklearn.metrics import accuracy_score\n",
    "accuracy_score(ytest,y_model_NB)\n",
    "#only 50% accuracy is not high enough"
   ]
  },
  {
   "cell_type": "code",
   "execution_count": 18,
   "metadata": {},
   "outputs": [
    {
     "data": {
      "text/plain": [
       "0.580966482702921"
      ]
     },
     "execution_count": 18,
     "metadata": {},
     "output_type": "execute_result"
    }
   ],
   "source": [
    "#15.\n",
    "from sklearn.svm import SVC\n",
    "model = SVC(kernel='rbf', C=10, gamma='auto')\n",
    "model.fit(Xtrain,ytrain)\n",
    "y_model_SVC = model.predict(Xtest)\n",
    "\n",
    "accuracy_score(ytest,y_model_SVC)\n",
    "#using SVC algorithm to fit the data has improved to 58% of accuracy"
   ]
  },
  {
   "cell_type": "code",
   "execution_count": 19,
   "metadata": {},
   "outputs": [
    {
     "name": "stdout",
     "output_type": "stream",
     "text": [
      "{'C': 10}\n"
     ]
    }
   ],
   "source": [
    "#16.\n",
    "from sklearn.model_selection import GridSearchCV\n",
    "param_grid = {'C': [1, 5, 10, 50]}\n",
    "grid = GridSearchCV(model, param_grid,cv = 5)\n",
    "grid.fit(Xtrain, ytrain)\n",
    "print(grid.best_params_)"
   ]
  },
  {
   "cell_type": "code",
   "execution_count": 20,
   "metadata": {},
   "outputs": [
    {
     "data": {
      "text/plain": [
       "0.54785300848028"
      ]
     },
     "execution_count": 20,
     "metadata": {},
     "output_type": "execute_result"
    }
   ],
   "source": [
    "#17.\n",
    "from sklearn.ensemble import RandomForestClassifier\n",
    "model_tree = RandomForestClassifier(n_estimators = 100, random_state=0)\n",
    "model_tree.fit(Xtrain,ytrain)\n",
    "y_model_tree = model_tree.predict(Xtest)\n",
    "\n",
    "accuracy_score(ytest,y_model_tree)\n",
    "#this model doesn't perform as good as SVC"
   ]
  },
  {
   "cell_type": "code",
   "execution_count": 21,
   "metadata": {},
   "outputs": [
    {
     "data": {
      "text/plain": [
       "array([0.99992338, 1.00031741, 1.0016209 , ..., 1.02914025, 1.02885695,\n",
       "       1.02931731])"
      ]
     },
     "execution_count": 21,
     "metadata": {},
     "output_type": "execute_result"
    }
   ],
   "source": [
    "#18.\n",
    "RetNB = (y_model_NB*df.loc[start_date_test:end_date_test,'RetAAPL5'].values-(1-y_model_NB)*df.loc[start_date_test:end_date_test,'RetAAPL5'].values)\n",
    "CsRetNB = (1+0.01*RetNB).cumprod()\n",
    "CsRetNB"
   ]
  },
  {
   "cell_type": "code",
   "execution_count": 40,
   "metadata": {},
   "outputs": [
    {
     "data": {
      "text/plain": [
       "array([-0.00766158, -0.        , -0.        , ..., -0.04471246,\n",
       "       -0.02752767, -0.        ])"
      ]
     },
     "execution_count": 40,
     "metadata": {},
     "output_type": "execute_result"
    }
   ],
   "source": [
    "y_model_NB*df.loc[start_date_test:end_date_test,'RetAAPL5'].values"
   ]
  },
  {
   "cell_type": "code",
   "execution_count": 22,
   "metadata": {},
   "outputs": [
    {
     "data": {
      "text/plain": [
       "array([0.99992338, 1.00031741, 0.99901391, ..., 6.16836922, 6.16667121,\n",
       "       6.16391195])"
      ]
     },
     "execution_count": 22,
     "metadata": {},
     "output_type": "execute_result"
    }
   ],
   "source": [
    "RetSVC = (y_model_SVC*df.loc[start_date_test:end_date_test,'RetAAPL5'].values-(1-y_model_SVC)*df.loc[start_date_test:end_date_test,'RetAAPL5'].values)\n",
    "CsRetSVC = (1+0.01*RetSVC).cumprod()\n",
    "CsRetSVC"
   ]
  },
  {
   "cell_type": "code",
   "execution_count": 23,
   "metadata": {},
   "outputs": [],
   "source": [
    "RetRF = (y_model_tree*df.loc[start_date_test:end_date_test,'RetAAPL5'].values-(1-y_model_tree)*df.loc[start_date_test:end_date_test,'RetAAPL5'].values)\n",
    "CsRetTree = (1+0.01*RetRF).cumprod()"
   ]
  },
  {
   "cell_type": "code",
   "execution_count": 24,
   "metadata": {
    "scrolled": true
   },
   "outputs": [
    {
     "data": {
      "text/plain": [
       "<matplotlib.legend.Legend at 0x1ac429ddd48>"
      ]
     },
     "execution_count": 24,
     "metadata": {},
     "output_type": "execute_result"
    },
    {
     "data": {
      "image/png": "[encoded data removed]",
      "text/plain": [
       "<Figure size 432x288 with 1 Axes>"
      ]
     },
     "metadata": {
      "needs_background": "light"
     },
     "output_type": "display_data"
    }
   ],
   "source": [
    "#19.\n",
    "plt.plot(CsRetNB,color='blue',label='GNB')\n",
    "plt.plot(CsRetSVC,color='red',label='SVC')\n",
    "plt.plot(CsRetTree,color = 'green',label='RF')\n",
    "plt.legend()"
   ]
  },
  {
   "cell_type": "code",
   "execution_count": 25,
   "metadata": {},
   "outputs": [],
   "source": [
    "#20\n",
    "null = df.loc[start_date_train:end_date_train,'BASprd':'BAImb'].values\n",
    "Xtrain_new = np.concatenate((Xtrain,null),axis=1)\n",
    "ytrain = (df.loc[start_date_train:end_date_train,'RetAAPL5'].values >0 ).astype(int)\n",
    "\n",
    "nullt = df.loc[start_date_test:end_date_test,'BASprd':'BAImb'].values\n",
    "Xtest_new = np.concatenate((Xtest,nullt),axis=1)\n",
    "ytest = (df.loc[start_date_test:end_date_test,'RetAAPL5'].values >0 ).astype(int)"
   ]
  },
  {
   "cell_type": "code",
   "execution_count": 26,
   "metadata": {},
   "outputs": [
    {
     "data": {
      "text/plain": [
       "0.5027594561852201"
      ]
     },
     "execution_count": 26,
     "metadata": {},
     "output_type": "execute_result"
    }
   ],
   "source": [
    "#20NB.\n",
    "model = GaussianNB()   \n",
    "model.fit(Xtrain_new,ytrain)\n",
    "y_model_NBnew = model.predict(Xtest_new)\n",
    "accuracy_score(ytest,y_model_NBnew)"
   ]
  },
  {
   "cell_type": "code",
   "execution_count": 27,
   "metadata": {},
   "outputs": [
    {
     "data": {
      "text/plain": [
       "0.550275945618522"
      ]
     },
     "execution_count": 27,
     "metadata": {},
     "output_type": "execute_result"
    }
   ],
   "source": [
    "#20SVC\n",
    "model = SVC(kernel='rbf', C=10, gamma='auto')\n",
    "model.fit(Xtrain_new,ytrain)\n",
    "y_model_SVCnew = model.predict(Xtest_new)\n",
    "\n",
    "accuracy_score(ytest,y_model_SVCnew)"
   ]
  },
  {
   "cell_type": "code",
   "execution_count": 28,
   "metadata": {},
   "outputs": [
    {
     "data": {
      "text/plain": [
       "0.552698882756764"
      ]
     },
     "execution_count": 28,
     "metadata": {},
     "output_type": "execute_result"
    }
   ],
   "source": [
    "#20RF\n",
    "model_tree.fit(Xtrain_new,ytrain)\n",
    "y_model_treenew = model_tree.predict(Xtest_new)\n",
    "\n",
    "accuracy_score(ytest,y_model_treenew)"
   ]
  },
  {
   "cell_type": "code",
   "execution_count": 29,
   "metadata": {
    "scrolled": true
   },
   "outputs": [
    {
     "data": {
      "text/plain": [
       "array([0.99992338, 1.00031741, 1.0016209 , ..., 1.03869202, 1.03840609,\n",
       "       1.03887072])"
      ]
     },
     "execution_count": 29,
     "metadata": {},
     "output_type": "execute_result"
    }
   ],
   "source": [
    "RetNBnew = (y_model_NBnew*df.loc[start_date_test:end_date_test,'RetAAPL5'].values-(1-y_model_NBnew)*df.loc[start_date_test:end_date_test,'RetAAPL5'].values)\n",
    "CsRetNBnew = (1+0.01*RetNBnew).cumprod()\n",
    "CsRetNBnew"
   ]
  },
  {
   "cell_type": "code",
   "execution_count": 30,
   "metadata": {},
   "outputs": [
    {
     "data": {
      "text/plain": [
       "array([0.99992338, 1.00031741, 1.00031741, ..., 4.56621901, 4.56496204,\n",
       "       4.56496204])"
      ]
     },
     "execution_count": 30,
     "metadata": {},
     "output_type": "execute_result"
    }
   ],
   "source": [
    "RetSVCnew = (y_model_SVC*df.loc[start_date_test:end_date_test,'RetAAPL5'].values-(1-y_model_SVCnew)*df.loc[start_date_test:end_date_test,'RetAAPL5'].values)\n",
    "CsRetSVCnew = (1+0.01*RetSVCnew).cumprod()\n",
    "CsRetSVCnew"
   ]
  },
  {
   "cell_type": "code",
   "execution_count": 31,
   "metadata": {},
   "outputs": [
    {
     "data": {
      "text/plain": [
       "array([0.99992338, 0.99952936, 0.99822689, ..., 4.37601168, 4.37480706,\n",
       "       4.37284956])"
      ]
     },
     "execution_count": 31,
     "metadata": {},
     "output_type": "execute_result"
    }
   ],
   "source": [
    "RetRFnew = (y_model_treenew*df.loc[start_date_test:end_date_test,'RetAAPL5'].values-(1-y_model_treenew)*df.loc[start_date_test:end_date_test,'RetAAPL5'].values)\n",
    "CsRetTreenew = (1+0.01*RetRFnew).cumprod()\n",
    "CsRetTreenew"
   ]
  },
  {
   "cell_type": "code",
   "execution_count": 32,
   "metadata": {
    "scrolled": true
   },
   "outputs": [
    {
     "data": {
      "text/plain": [
       "<matplotlib.legend.Legend at 0x1ac44a37e88>"
      ]
     },
     "execution_count": 32,
     "metadata": {},
     "output_type": "execute_result"
    },
    {
     "data": {
      "image/png": "[encoded data removed]",
      "text/plain": [
       "<Figure size 432x288 with 1 Axes>"
      ]
     },
     "metadata": {
      "needs_background": "light"
     },
     "output_type": "display_data"
    }
   ],
   "source": [
    "plt.plot(CsRetNBnew,color='blue',label='GNB')\n",
    "plt.plot(CsRetSVCnew,color='red',label='SVC')\n",
    "plt.plot(CsRetTreenew,color = 'green',label='RF')\n",
    "plt.legend()"
   ]
  },
  {
   "cell_type": "code",
   "execution_count": 33,
   "metadata": {},
   "outputs": [
    {
     "data": {
      "text/plain": [
       "<matplotlib.legend.Legend at 0x1ac44ad18c8>"
      ]
     },
     "execution_count": 33,
     "metadata": {},
     "output_type": "execute_result"
    },
    {
     "data": {
      "image/png": "[encoded data removed]",
      "text/plain": [
       "<Figure size 432x288 with 1 Axes>"
      ]
     },
     "metadata": {
      "needs_background": "light"
     },
     "output_type": "display_data"
    }
   ],
   "source": [
    "#21\n",
    "RetNB = (y_model_NB*df.loc[start_date_test:end_date_test,'RetAAPL5'].values-(1-y_model_NB)*df.loc[start_date_test:end_date_test,'RetAAPL5'].values)\n",
    "RetNBcost = RetNB - df.loc[start_date_test:end_date_test,'BASprd'].values\n",
    "CsRetNBcost = (1+0.01*RetNBcost).cumprod()\n",
    "\n",
    "RetSVC = (y_model_SVC*df.loc[start_date_test:end_date_test,'RetAAPL5'].values-(1-y_model_SVC)*df.loc[start_date_test:end_date_test,'RetAAPL5'].values)\n",
    "RetSVCcost = RetSVC - df.loc[start_date_test:end_date_test,'BASprd'].values\n",
    "CsRetSVCcost = (1+0.01*RetSVCcost).cumprod()\n",
    "\n",
    "RetRF = (y_model_tree*df.loc[start_date_test:end_date_test,'RetAAPL5'].values-(1-y_model_tree)*df.loc[start_date_test:end_date_test,'RetAAPL5'].values)\n",
    "RetRFcost = RetRF - df.loc[start_date_test:end_date_test,'BASprd'].values\n",
    "CsRetRFcost = (1+0.01*RetRFcost).cumprod()\n",
    "\n",
    "plt.plot(CsRetNBcost,color='blue',label='GNB')\n",
    "plt.plot(CsRetSVCcost,color='red',label='SVC')\n",
    "plt.plot(CsRetRFcost,color = 'green',label='RF')\n",
    "plt.legend()"
   ]
  },
  {
   "cell_type": "code",
   "execution_count": 34,
   "metadata": {},
   "outputs": [
    {
     "data": {
      "text/plain": [
       "<matplotlib.legend.Legend at 0x1ac44b5b548>"
      ]
     },
     "execution_count": 34,
     "metadata": {},
     "output_type": "execute_result"
    },
    {
     "data": {
      "image/png": "[encoded data removed]",
      "text/plain": [
       "<Figure size 432x288 with 1 Axes>"
      ]
     },
     "metadata": {
      "needs_background": "light"
     },
     "output_type": "display_data"
    }
   ],
   "source": [
    "RetNBnew = (y_model_NBnew*df.loc[start_date_test:end_date_test,'RetAAPL5'].values-(1-y_model_NBnew)*df.loc[start_date_test:end_date_test,'RetAAPL5'].values)\n",
    "RetNBcostnew = RetNBnew - df.loc[start_date_test:end_date_test,'BASprd'].values\n",
    "CsRetNBcostnew = (1+0.01*RetNBcostnew).cumprod()\n",
    "\n",
    "RetSVCnew = (y_model_SVCnew*df.loc[start_date_test:end_date_test,'RetAAPL5'].values-(1-y_model_SVCnew)*df.loc[start_date_test:end_date_test,'RetAAPL5'].values)\n",
    "RetSVCcost = RetSVCnew - df.loc[start_date_test:end_date_test,'BASprd'].values\n",
    "CsRetSVCcostnew = (1+0.01*RetSVCcost).cumprod()\n",
    "\n",
    "RetRFnew = (y_model_treenew*df.loc[start_date_test:end_date_test,'RetAAPL5'].values-(1-y_model_treenew)*df.loc[start_date_test:end_date_test,'RetAAPL5'].values)\n",
    "RetRFcostnew = RetRFnew - df.loc[start_date_test:end_date_test,'BASprd'].values\n",
    "CsRetRFcostnew = (1+0.01*RetRFcostnew).cumprod()\n",
    "\n",
    "plt.plot(CsRetNBcostnew,color='blue',label='GNB')\n",
    "plt.plot(CsRetSVCcostnew,color='red',label='SVC')\n",
    "plt.plot(CsRetRFcostnew,color = 'green',label='RF')\n",
    "plt.legend()"
   ]
  }
 ],
 "metadata": {
  "kernelspec": {
   "display_name": "Python 3",
   "language": "python",
   "name": "python3"
  },
  "language_info": {
   "codemirror_mode": {
    "name": "ipython",
    "version": 3
   },
   "file_extension": ".py",
   "mimetype": "text/x-python",
   "name": "python",
   "nbconvert_exporter": "python",
   "pygments_lexer": "ipython3",
   "version": "3.8.3"
  },
  "toc": {
   "base_numbering": 1,
   "nav_menu": {},
   "number_sections": true,
   "sideBar": true,
   "skip_h1_title": false,
   "title_cell": "Table of Contents",
   "title_sidebar": "Contents",
   "toc_cell": false,
   "toc_position": {},
   "toc_section_display": true,
   "toc_window_display": false
  }
 },
 "nbformat": 4,
 "nbformat_minor": 4
}
